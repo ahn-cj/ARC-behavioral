{
 "cells": [
  {
   "cell_type": "code",
   "execution_count": 2,
   "id": "faa50375",
   "metadata": {},
   "outputs": [],
   "source": [
    "import os\n",
    "import json"
   ]
  },
  {
   "cell_type": "code",
   "execution_count": 7,
   "id": "8d25a42d",
   "metadata": {},
   "outputs": [],
   "source": [
    "def compile_json_files(input_directory, output_file):\n",
    "    \"\"\"\n",
    "    Combines all JSON files in the specified directory into one JSON file, \n",
    "    adding the filename (without extension) as a task name and saving without line breaks.\n",
    "\n",
    "    :param input_directory: Directory containing JSON files to compile\n",
    "    :param output_file: Output file path for the compiled JSON\n",
    "    \"\"\"\n",
    "    combined_data = {}\n",
    "\n",
    "    # Iterate through all files in the directory\n",
    "    for filename in os.listdir(input_directory):\n",
    "        if filename.endswith(\".json\"):\n",
    "            file_path = os.path.join(input_directory, filename)\n",
    "            task_name = os.path.splitext(filename)[0]  # Get filename without extension\n",
    "            with open(file_path, 'r') as json_file:\n",
    "                try:\n",
    "                    data = json.load(json_file)\n",
    "                    # Use the task name as the key\n",
    "                    combined_data[task_name] = data\n",
    "                except json.JSONDecodeError as e:\n",
    "                    print(f\"Error decoding JSON in file {filename}: {e}\")\n",
    "\n",
    "    # Write the combined data to the output file in a compact format\n",
    "    with open(output_file, 'w') as output_json:\n",
    "        json.dump(combined_data, output_json, separators=(',', ':'))\n",
    "    print(f\"Compiled JSON data has been saved to {output_file}\")\n"
   ]
  },
  {
   "cell_type": "code",
   "execution_count": 8,
   "id": "e21c33d0",
   "metadata": {},
   "outputs": [
    {
     "name": "stdout",
     "output_type": "stream",
     "text": [
      "Compiled JSON data has been saved to ../all-tasks-compiled.json\n"
     ]
    }
   ],
   "source": [
    "input_directory = \".\"  # Replace with your directory path\n",
    "output_file = \"../all-tasks-compiled.json\"  # Replace with your desired output file path\n",
    "compile_json_files(input_directory, output_file)"
   ]
  },
  {
   "cell_type": "code",
   "execution_count": 9,
   "id": "ba9ecc29",
   "metadata": {},
   "outputs": [],
   "source": [
    "def create_sample_submission(input_directory, output_file):\n",
    "    \"\"\"\n",
    "    Creates a JSON file with the format of sample_submission.json, \n",
    "    using the task names (filenames without extension) in the input directory.\n",
    "\n",
    "    :param input_directory: Directory containing JSON files\n",
    "    :param output_file: Output file path for the sample submission\n",
    "    \"\"\"\n",
    "    sample_submission = {}\n",
    "\n",
    "    # Iterate through all files in the directory\n",
    "    for filename in os.listdir(input_directory):\n",
    "        if filename.endswith(\".json\"):\n",
    "            task_name = os.path.splitext(filename)[0]  # Get filename without extension\n",
    "            # Initialize with the format of sample_submission.json\n",
    "            sample_submission[task_name] = [\n",
    "                {\"attempt_1\": [[0, 0], [0, 0]], \"attempt_2\": [[0, 0], [0, 0]]}\n",
    "            ]\n",
    "\n",
    "    # Write the sample submission to the output file\n",
    "    with open(output_file, 'w') as output_json:\n",
    "        json.dump(sample_submission, output_json, separators=(',', ':'))\n",
    "    print(f\"Sample submission JSON file has been saved to {output_file}\")"
   ]
  },
  {
   "cell_type": "code",
   "execution_count": 10,
   "id": "e27fca2f",
   "metadata": {},
   "outputs": [
    {
     "name": "stdout",
     "output_type": "stream",
     "text": [
      "Sample submission JSON file has been saved to ../sample_submission.json\n"
     ]
    }
   ],
   "source": [
    "input_directory = \".\"  # Replace with your directory path\n",
    "output_file = \"../sample_submission.json\"  # Replace with your desired output file path\n",
    "create_sample_submission(input_directory, output_file)"
   ]
  },
  {
   "cell_type": "code",
   "execution_count": null,
   "id": "1b91292d",
   "metadata": {},
   "outputs": [],
   "source": []
  }
 ],
 "metadata": {
  "kernelspec": {
   "display_name": "Python 3 (ipykernel)",
   "language": "python",
   "name": "python3"
  },
  "language_info": {
   "codemirror_mode": {
    "name": "ipython",
    "version": 3
   },
   "file_extension": ".py",
   "mimetype": "text/x-python",
   "name": "python",
   "nbconvert_exporter": "python",
   "pygments_lexer": "ipython3",
   "version": "3.10.9"
  }
 },
 "nbformat": 4,
 "nbformat_minor": 5
}
