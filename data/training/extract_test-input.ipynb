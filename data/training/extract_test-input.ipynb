{
 "cells": [
  {
   "cell_type": "code",
   "execution_count": 1,
   "id": "150ec90c",
   "metadata": {},
   "outputs": [],
   "source": [
    "import os\n",
    "import json"
   ]
  },
  {
   "cell_type": "code",
   "execution_count": 3,
   "id": "2dbc244a",
   "metadata": {},
   "outputs": [
    {
     "name": "stdout",
     "output_type": "stream",
     "text": [
      "Processed all tasks. The formatted files are saved in: ../test input\n"
     ]
    }
   ],
   "source": [
    "# Define the input and output directories\n",
    "input_directory = \".\"\n",
    "output_directory = \"../test input\"\n",
    "\n",
    "# Create the output directory if it doesn't exist\n",
    "os.makedirs(output_directory, exist_ok=True)\n",
    "\n",
    "# Iterate through all files in the input directory\n",
    "for filename in os.listdir(input_directory):\n",
    "    if filename.endswith(\".json\"):  # Process only JSON files\n",
    "        input_path = os.path.join(input_directory, filename)\n",
    "        \n",
    "        # Extract the task name (filename without extension)\n",
    "        taskname = os.path.splitext(filename)[0]\n",
    "        \n",
    "        # Define the output file name\n",
    "        output_filename = f\"{taskname}_Input.json\"\n",
    "        output_path = os.path.join(output_directory, output_filename)\n",
    "        \n",
    "        # Load the current input file\n",
    "        with open(input_path, \"r\") as file:\n",
    "            input_data = json.load(file)\n",
    "        \n",
    "        # Extract the test input\n",
    "        test_input_data = input_data.get(\"test\", [])\n",
    "        \n",
    "        # Transform the test data into the required format\n",
    "        formatted_output = {\n",
    "            \"grid_data\": [item[\"input\"] for item in test_input_data]\n",
    "        }\n",
    "        \n",
    "        # Save the formatted output to the output directory\n",
    "        with open(output_path, \"w\") as file:\n",
    "            json.dump(formatted_output, file, indent=4)\n",
    "\n",
    "print(f\"Processed all tasks. The formatted files are saved in: {output_directory}\")"
   ]
  },
  {
   "cell_type": "code",
   "execution_count": null,
   "id": "5de8f444",
   "metadata": {},
   "outputs": [],
   "source": []
  }
 ],
 "metadata": {
  "kernelspec": {
   "display_name": "Python 3 (ipykernel)",
   "language": "python",
   "name": "python3"
  },
  "language_info": {
   "codemirror_mode": {
    "name": "ipython",
    "version": 3
   },
   "file_extension": ".py",
   "mimetype": "text/x-python",
   "name": "python",
   "nbconvert_exporter": "python",
   "pygments_lexer": "ipython3",
   "version": "3.10.9"
  }
 },
 "nbformat": 4,
 "nbformat_minor": 5
}
