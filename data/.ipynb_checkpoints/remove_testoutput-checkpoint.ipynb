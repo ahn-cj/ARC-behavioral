{
 "cells": [
  {
   "cell_type": "code",
   "execution_count": 1,
   "id": "34003ddb",
   "metadata": {},
   "outputs": [],
   "source": [
    "import os\n",
    "import json"
   ]
  },
  {
   "cell_type": "code",
   "execution_count": 2,
   "id": "b7208a73",
   "metadata": {},
   "outputs": [
    {
     "name": "stdout",
     "output_type": "stream",
     "text": [
      "Processed: 20.json\n",
      "Processed: 36.json\n",
      "Processed: 16.json\n",
      "Processed: 00.json\n",
      "Processed: 01.json\n",
      "Processed: 17.json\n",
      "Processed: 40.json\n",
      "Processed: 37.json\n",
      "Processed: 21.json\n",
      "Processed: 10.json\n",
      "Processed: 06.json\n",
      "Processed: 26.json\n",
      "Processed: 30.json\n",
      "Processed: 31.json\n",
      "Processed: 27.json\n",
      "Processed: 07.json\n",
      "Processed: 11.json\n",
      "Processed: 28.json\n",
      "Processed: 04.json\n",
      "Processed: 12.json\n",
      "Processed: 32.json\n",
      "Processed: 24.json\n",
      "Processed: 08.json\n",
      "Processed: 09.json\n",
      "Processed: 25.json\n",
      "Processed: 33.json\n",
      "Processed: 13.json\n",
      "Processed: 05.json\n",
      "Processed: 29.json\n",
      "Processed: 34.json\n",
      "Processed: 22.json\n",
      "Processed: 18.json\n",
      "Processed: 38.json\n",
      "Processed: 02.json\n",
      "Processed: 14.json\n",
      "Processed: 15.json\n",
      "Processed: 03.json\n",
      "Processed: 39.json\n",
      "Processed: 19.json\n",
      "Processed: 23.json\n",
      "Processed: 35.json\n",
      "All files have been processed and saved to the new directory.\n"
     ]
    }
   ],
   "source": [
    "# Define the input and output directories\n",
    "input_dir = \"keywords\"  # Replace with your actual input directory\n",
    "output_dir = \"keywords-testset\"  # Replace with your actual output directory\n",
    "\n",
    "# Ensure the output directory exists\n",
    "os.makedirs(output_dir, exist_ok=True)\n",
    "\n",
    "# Iterate over all JSON files in the input directory\n",
    "for filename in os.listdir(input_dir):\n",
    "    if filename.endswith(\".json\"):  # Ensure we're only processing JSON files\n",
    "        input_filepath = os.path.join(input_dir, filename)\n",
    "        output_filepath = os.path.join(output_dir, filename)\n",
    "        \n",
    "        # Read the JSON data\n",
    "        with open(input_filepath, \"r\") as file:\n",
    "            data = json.load(file)\n",
    "        \n",
    "        # Modify the 'test' section: Keep 'input' but remove 'output'\n",
    "        if \"test\" in data:\n",
    "            for test_case in data[\"test\"]:\n",
    "                if \"output\" in test_case:\n",
    "                    del test_case[\"output\"]\n",
    "        \n",
    "        # Save the modified JSON to the output directory\n",
    "        with open(output_filepath, \"w\") as file:\n",
    "            json.dump(data, file, indent=4)\n",
    "\n",
    "        print(f\"Processed: {filename}\")\n",
    "\n",
    "print(\"All files have been processed and saved to the new directory.\")"
   ]
  },
  {
   "cell_type": "code",
   "execution_count": null,
   "id": "3a3068a5",
   "metadata": {},
   "outputs": [],
   "source": []
  }
 ],
 "metadata": {
  "kernelspec": {
   "display_name": "Python 3 (ipykernel)",
   "language": "python",
   "name": "python3"
  },
  "language_info": {
   "codemirror_mode": {
    "name": "ipython",
    "version": 3
   },
   "file_extension": ".py",
   "mimetype": "text/x-python",
   "name": "python",
   "nbconvert_exporter": "python",
   "pygments_lexer": "ipython3",
   "version": "3.10.9"
  }
 },
 "nbformat": 4,
 "nbformat_minor": 5
}
