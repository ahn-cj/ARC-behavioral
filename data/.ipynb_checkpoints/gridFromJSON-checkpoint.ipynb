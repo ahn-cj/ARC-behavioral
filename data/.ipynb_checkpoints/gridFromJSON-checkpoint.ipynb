{
 "cells": [
  {
   "cell_type": "code",
   "execution_count": 1,
   "id": "cf941718",
   "metadata": {},
   "outputs": [],
   "source": [
    "import os\n",
    "import json\n",
    "import matplotlib.pyplot as plt\n",
    "from matplotlib import colors\n",
    "from pathlib import Path"
   ]
  },
  {
   "cell_type": "code",
   "execution_count": 2,
   "id": "a79f8087",
   "metadata": {},
   "outputs": [],
   "source": [
    "# ARC color scheme setup\n",
    "arc_cmap = colors.ListedColormap([\n",
    "    '#2B2B2B', '#248ADA', '#C71010', '#1FC719', '#F7DE28',\n",
    "    '#878494', '#F954F2', '#EE6000', '#6B23A9', '#8B5A28'\n",
    "])\n",
    "arc_norm = colors.Normalize(vmin=0, vmax=9)"
   ]
  },
  {
   "cell_type": "code",
   "execution_count": 5,
   "id": "4217c66a",
   "metadata": {},
   "outputs": [
    {
     "data": {
      "text/plain": [
       "'✅ Ready to use `save_split_images(task, task_id, outdir)` to generate image files for Gemini.'"
      ]
     },
     "execution_count": 5,
     "metadata": {},
     "output_type": "execute_result"
    }
   ],
   "source": [
    "def plot_output_grid_from_json(json_path, outdir=None, save_name=None):\n",
    "    \"\"\"\n",
    "    Load a JSON file with a 'test_output_grid' field and plot it as a colored grid.\n",
    "    \n",
    "    Parameters:\n",
    "    - json_path: Path to the JSON file\n",
    "    - outdir: Optional directory to save the image\n",
    "    - save_name: Optional name for the saved file (e.g., \"example_grid.png\")\n",
    "    \"\"\"\n",
    "    with open(json_path, 'r') as f:\n",
    "        data = json.load(f)\n",
    "    \n",
    "    matrix = data['test_output_grid']\n",
    "    \n",
    "    fig, ax = plt.subplots(figsize=(5, 5))\n",
    "    ax.imshow(matrix, cmap=arc_cmap, norm=arc_norm)\n",
    "    ax.grid(True, which='both', color='lightgrey', linewidth=0.5)\n",
    "    ax.set_xticks([x - 0.5 for x in range(len(matrix[0]) + 1)])\n",
    "    ax.set_yticks([x - 0.5 for x in range(len(matrix) + 1)])\n",
    "    ax.set_xticklabels([])\n",
    "    ax.set_yticklabels([])\n",
    "    ax.tick_params(axis='both', which='both', length=0)\n",
    "\n",
    "    if outdir and save_name:\n",
    "        os.makedirs(outdir, exist_ok=True)\n",
    "        save_path = Path(outdir) / save_name\n",
    "        plt.savefig(save_path, dpi=300, transparent=True, bbox_inches='tight')\n",
    "        print(f\"Saved to {save_path}\")\n",
    "    \n",
    "    plt.show()\n"
   ]
  },
  {
   "cell_type": "code",
   "execution_count": 8,
   "id": "d4790770",
   "metadata": {},
   "outputs": [
    {
     "name": "stdout",
     "output_type": "stream",
     "text": [
      "Processing 20.json...\n",
      "Processing 36.json...\n",
      "Processing 16.json...\n",
      "Processing 00.json...\n",
      "Processing 01.json...\n",
      "Processing 17.json...\n",
      "Processing 40.json...\n",
      "Processing 37.json...\n",
      "Processing 21.json...\n",
      "Processing 10.json...\n",
      "Processing 06.json...\n",
      "Processing 26.json...\n",
      "Processing 30.json...\n",
      "Processing 31.json...\n",
      "Processing 27.json...\n",
      "Processing 07.json...\n",
      "Processing 11.json...\n",
      "Processing 28.json...\n",
      "Processing 04.json...\n",
      "Processing 12.json...\n",
      "Processing 32.json...\n",
      "Processing 24.json...\n",
      "Processing 08.json...\n",
      "Processing 09.json...\n",
      "Processing 25.json...\n",
      "Processing 33.json...\n",
      "Processing 13.json...\n",
      "Processing 05.json...\n",
      "Processing 29.json...\n",
      "Processing 34.json...\n",
      "Processing 22.json...\n",
      "Processing 18.json...\n",
      "Processing 38.json...\n",
      "Processing 02.json...\n",
      "Processing 14.json...\n",
      "Processing 15.json...\n",
      "Processing 03.json...\n",
      "Processing 39.json...\n",
      "Processing 19.json...\n",
      "Processing 23.json...\n",
      "Processing 35.json...\n"
     ]
    }
   ],
   "source": [
    "plot_output_grid_from_json(\"example_submission.json\", outdir=\"grid_images\", save_name=\"submission_grid.png\")"
   ]
  },
  {
   "cell_type": "code",
   "execution_count": null,
   "id": "4963923b",
   "metadata": {},
   "outputs": [],
   "source": []
  }
 ],
 "metadata": {
  "kernelspec": {
   "display_name": "Python 3 (ipykernel)",
   "language": "python",
   "name": "python3"
  },
  "language_info": {
   "codemirror_mode": {
    "name": "ipython",
    "version": 3
   },
   "file_extension": ".py",
   "mimetype": "text/x-python",
   "name": "python",
   "nbconvert_exporter": "python",
   "pygments_lexer": "ipython3",
   "version": "3.10.9"
  }
 },
 "nbformat": 4,
 "nbformat_minor": 5
}
