{
 "cells": [
  {
   "cell_type": "code",
   "execution_count": 1,
   "id": "cf941718",
   "metadata": {},
   "outputs": [],
   "source": [
    "import os\n",
    "import json\n",
    "import matplotlib.pyplot as plt\n",
    "from matplotlib import colors\n",
    "from pathlib import Path"
   ]
  },
  {
   "cell_type": "code",
   "execution_count": 2,
   "id": "a79f8087",
   "metadata": {},
   "outputs": [],
   "source": [
    "# ARC color scheme setup\n",
    "arc_cmap = colors.ListedColormap([\n",
    "    '#2B2B2B', '#248ADA', '#C71010', '#1FC719', '#F7DE28',\n",
    "    '#878494', '#F954F2', '#EE6000', '#6B23A9', '#8B5A28'\n",
    "])\n",
    "arc_norm = colors.Normalize(vmin=0, vmax=9)"
   ]
  },
  {
   "cell_type": "code",
   "execution_count": 3,
   "id": "4217c66a",
   "metadata": {},
   "outputs": [],
   "source": [
    "def plot_test_output_from_task_json(json_path, test_index=0, outdir=None, save_name=None):\n",
    "    \"\"\"\n",
    "    Plot the 'output' grid of a test example from a full ARC-style JSON task file.\n",
    "\n",
    "    Parameters:\n",
    "    - json_path: Path to the ARC-style JSON file.\n",
    "    - test_index: Index of the test example to plot (default is 0).\n",
    "    - outdir: Optional directory to save the image.\n",
    "    - save_name: Optional filename to save the image as (e.g. \"test_output.png\").\n",
    "    \"\"\"\n",
    "    with open(json_path, 'r') as f:\n",
    "        task = json.load(f)\n",
    "\n",
    "    matrix = task[\"test\"][test_index][\"output\"]\n",
    "\n",
    "    fig, ax = plt.subplots(figsize=(4, 4))\n",
    "    ax.imshow(matrix, cmap=arc_cmap, norm=arc_norm)\n",
    "    ax.grid(True, which='both', color='lightgrey', linewidth=0.5)\n",
    "    ax.set_xticks([x - 0.5 for x in range(len(matrix[0]) + 1)])\n",
    "    ax.set_yticks([x - 0.5 for x in range(len(matrix) + 1)])\n",
    "    ax.set_xticklabels([])\n",
    "    ax.set_yticklabels([])\n",
    "    ax.tick_params(axis='both', which='both', length=0)\n",
    "\n",
    "    if outdir and save_name:\n",
    "        os.makedirs(outdir, exist_ok=True)\n",
    "        save_path = Path(outdir) / save_name\n",
    "        plt.savefig(save_path, dpi=300, transparent=True, bbox_inches='tight')\n",
    "        print(f\"Saved to {save_path}\")\n",
    "    \n",
    "    plt.show()\n"
   ]
  },
  {
   "cell_type": "code",
   "execution_count": 4,
   "id": "de0de803",
   "metadata": {},
   "outputs": [
    {
     "data": {
      "image/png": "[encoded data removed]",
      "text/plain": [
       "<Figure size 400x400 with 1 Axes>"
      ]
     },
     "metadata": {},
     "output_type": "display_data"
    }
   ],
   "source": [
    "plot_test_output_from_task_json(\"keywords/39.json\", test_index=0, outdir=None, save_name=None)"
   ]
  },
  {
   "cell_type": "code",
   "execution_count": 5,
   "id": "2db2cd3e",
   "metadata": {},
   "outputs": [
    {
     "data": {
      "image/png": "[encoded data removed]",
      "text/plain": [
       "<Figure size 400x400 with 1 Axes>"
      ]
     },
     "metadata": {},
     "output_type": "display_data"
    }
   ],
   "source": [
    "plot_test_output_from_task_json(\"keywords/17.json\", test_index=0, outdir=None, save_name=None)"
   ]
  },
  {
   "cell_type": "code",
   "execution_count": 12,
   "id": "f50412bc",
   "metadata": {},
   "outputs": [
    {
     "data": {
      "image/png": "[encoded data removed]",
      "text/plain": [
       "<Figure size 400x400 with 1 Axes>"
      ]
     },
     "metadata": {},
     "output_type": "display_data"
    }
   ],
   "source": [
    "plot_test_output_from_task_json(\"keywords/20.json\", test_index=0, outdir=None, save_name=None)"
   ]
  },
  {
   "cell_type": "code",
   "execution_count": null,
   "id": "ad534950",
   "metadata": {},
   "outputs": [],
   "source": []
  }
 ],
 "metadata": {
  "kernelspec": {
   "display_name": "Python 3 (ipykernel)",
   "language": "python",
   "name": "python3"
  },
  "language_info": {
   "codemirror_mode": {
    "name": "ipython",
    "version": 3
   },
   "file_extension": ".py",
   "mimetype": "text/x-python",
   "name": "python",
   "nbconvert_exporter": "python",
   "pygments_lexer": "ipython3",
   "version": "3.10.9"
  }
 },
 "nbformat": 4,
 "nbformat_minor": 5
}
