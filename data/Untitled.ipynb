{
 "cells": [
  {
   "cell_type": "code",
   "execution_count": 1,
   "id": "3b1d5793",
   "metadata": {},
   "outputs": [],
   "source": [
    "import os\n",
    "import json\n",
    "import matplotlib.pyplot as plt\n",
    "from matplotlib import colors\n",
    "from pathlib import Path"
   ]
  },
  {
   "cell_type": "code",
   "execution_count": 2,
   "id": "afed46c2",
   "metadata": {},
   "outputs": [],
   "source": [
    "# ARC color scheme setup\n",
    "arc_cmap = colors.ListedColormap([\n",
    "    '#2B2B2B', '#248ADA', '#C71010', '#1FC719', '#F7DE28',\n",
    "    '#878494', '#F954F2', '#EE6000', '#6B23A9', '#8B5A28'\n",
    "])\n",
    "arc_norm = colors.Normalize(vmin=0, vmax=9)"
   ]
  },
  {
   "cell_type": "code",
   "execution_count": 5,
   "id": "4ac9e957",
   "metadata": {},
   "outputs": [
    {
     "data": {
      "text/plain": [
       "'✅ Ready to use `save_split_images(task, task_id, outdir)` to generate image files for Gemini.'"
      ]
     },
     "execution_count": 5,
     "metadata": {},
     "output_type": "execute_result"
    }
   ],
   "source": [
    "# Helper to plot a single grid\n",
    "def plot_one(ax, i, task, train_or_test, input_or_output):\n",
    "    matrix = task[train_or_test][i][input_or_output]\n",
    "    ax.imshow(matrix, cmap=arc_cmap, norm=arc_norm)\n",
    "    ax.grid(True, which='both', color='lightgrey', linewidth=0.5)\n",
    "    ax.set_xticks([x - 0.5 for x in range(len(matrix[0]) + 1)])\n",
    "    ax.set_yticks([x - 0.5 for x in range(len(matrix) + 1)])\n",
    "    ax.set_xticklabels([])\n",
    "    ax.set_yticklabels([])\n",
    "    ax.tick_params(axis='both', which='both', length=0)\n",
    "\n",
    "# Save each input/output as a separate image\n",
    "def save_split_images(task, task_id, outdir):\n",
    "    os.makedirs(outdir, exist_ok=True)\n",
    "    num_train = min(3, len(task[\"train\"]))\n",
    "    num_test = len(task[\"test\"])\n",
    "\n",
    "    for i in range(num_train):\n",
    "        for io in ['input', 'output']:\n",
    "            fig, ax = plt.subplots(figsize=(3, 3))\n",
    "            plot_one(ax, i, task, 'train', io)\n",
    "            fname = f\"{task_id}_train_{i}_{io}.png\"\n",
    "            plt.savefig(Path(outdir) / fname, dpi=300, transparent=True, bbox_inches='tight')\n",
    "            plt.close()\n",
    "\n",
    "    for i in range(num_test):\n",
    "        fig, ax = plt.subplots(figsize=(3, 3))\n",
    "        plot_one(ax, i, task, 'test', 'input')\n",
    "        fname = f\"{task_id}_test_{i}_input.png\"\n",
    "        plt.savefig(Path(outdir) / fname, dpi=300, transparent=True, bbox_inches='tight')\n",
    "        plt.close()\n",
    "\n",
    "\"✅ Ready to use `save_split_images(task, task_id, outdir)` to generate image files for Gemini.\""
   ]
  },
  {
   "cell_type": "code",
   "execution_count": 7,
   "id": "bb614d38",
   "metadata": {},
   "outputs": [
    {
     "name": "stdout",
     "output_type": "stream",
     "text": [
      "Processing 20.json...\n",
      "Processing 36.json...\n",
      "Processing 16.json...\n",
      "Processing 00.json...\n",
      "Processing 01.json...\n",
      "Processing 17.json...\n",
      "Processing 40.json...\n",
      "Processing 37.json...\n",
      "Processing 21.json...\n",
      "Processing 10.json...\n",
      "Processing 06.json...\n",
      "Processing 26.json...\n",
      "❌ JSON error in 26.json: Expecting property name enclosed in double quotes: line 1 column 53 (char 52)\n",
      "Processing 30.json...\n",
      "Processing 31.json...\n",
      "Processing 27.json...\n",
      "Processing 07.json...\n",
      "Processing 11.json...\n",
      "Processing 28.json...\n",
      "Processing 04.json...\n",
      "Processing 12.json...\n",
      "Processing 32.json...\n",
      "Processing 24.json...\n",
      "Processing 08.json...\n",
      "Processing 09.json...\n",
      "Processing 25.json...\n",
      "Processing 33.json...\n",
      "Processing 13.json...\n",
      "Processing 05.json...\n",
      "Processing 29.json...\n",
      "Processing 34.json...\n",
      "Processing 22.json...\n",
      "Processing 18.json...\n",
      "Processing 38.json...\n",
      "Processing 02.json...\n",
      "Processing 14.json...\n",
      "Processing 15.json...\n",
      "Processing 03.json...\n",
      "Processing 39.json...\n",
      "Processing 19.json...\n",
      "Processing 23.json...\n",
      "Processing 35.json...\n"
     ]
    }
   ],
   "source": [
    "# Path to your ARC JSON tasks\n",
    "input_dir = Path('/Users/carolineahn/Documents/GitHub/ARC-behavioral/data/keywords/')  # ⬅️ update this\n",
    "output_dir = Path('/Users/carolineahn/Documents/GitHub/ARC-data/ChatGPT-Keywords/keywords-png/')  # ⬅️ update this\n",
    "\n",
    "for file in input_dir.glob(\"*.json\"):\n",
    "    print(f\"Processing {file.name}...\")\n",
    "    try:\n",
    "        with open(file) as f:\n",
    "            task = json.load(f)\n",
    "        save_split_images(task, file.stem, output_dir)\n",
    "    except json.JSONDecodeError as e:\n",
    "        print(f\"❌ JSON error in {file.name}: {e}\")\n"
   ]
  },
  {
   "cell_type": "code",
   "execution_count": null,
   "id": "3567d6ae",
   "metadata": {},
   "outputs": [],
   "source": []
  }
 ],
 "metadata": {
  "kernelspec": {
   "display_name": "Python 3 (ipykernel)",
   "language": "python",
   "name": "python3"
  },
  "language_info": {
   "codemirror_mode": {
    "name": "ipython",
    "version": 3
   },
   "file_extension": ".py",
   "mimetype": "text/x-python",
   "name": "python",
   "nbconvert_exporter": "python",
   "pygments_lexer": "ipython3",
   "version": "3.10.9"
  }
 },
 "nbformat": 4,
 "nbformat_minor": 5
}
