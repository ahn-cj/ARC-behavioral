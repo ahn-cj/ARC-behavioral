{
 "cells": [
  {
   "cell_type": "code",
   "execution_count": 5,
   "id": "9068fcca",
   "metadata": {},
   "outputs": [],
   "source": [
    "import numpy as np\n",
    "import pandas as pd\n",
    "\n",
    "import os\n",
    "import json\n",
    "from pathlib import Path\n",
    "\n",
    "import matplotlib.pyplot as plt\n",
    "from matplotlib import colors\n",
    "import numpy as np"
   ]
  },
  {
   "cell_type": "code",
   "execution_count": 6,
   "id": "b692f395",
   "metadata": {},
   "outputs": [],
   "source": [
    "from pathlib import Path\n",
    "\n",
    "training_path = Path('training')\n",
    "\n",
    "training_tasks = sorted(os.listdir(training_path))"
   ]
  },
  {
   "cell_type": "code",
   "execution_count": 7,
   "id": "ddd0a5d7",
   "metadata": {},
   "outputs": [],
   "source": [
    "def plot_one(ax, i,train_or_test,input_or_output):\n",
    "    cmap = colors.ListedColormap(\n",
    "        ['#2B2B2B', '#248ADA','#C71010','#1FC719','#F7DE28',\n",
    "         '#878494', '#F954F2', '#EE6000', '#6B23A9', '#8B5A28'])\n",
    "    norm = colors.Normalize(vmin=0, vmax=9)\n",
    "    \n",
    "    input_matrix = task[train_or_test][i][input_or_output]\n",
    "    ax.imshow(input_matrix, cmap=cmap, norm=norm)\n",
    "    ax.grid(True,which='both',color='lightgrey', linewidth=0.5)    \n",
    "    ax.set_yticks([x-0.5 for x in range(1+len(input_matrix))])\n",
    "    ax.set_xticks([x-0.5 for x in range(1+len(input_matrix[0]))])     \n",
    "    ax.set_xticklabels([])\n",
    "    ax.set_yticklabels([])\n",
    "    if input_or_output == 'input':\n",
    "        ax.set_title('example '+ str(i+1), fontsize = 16)\n",
    "    else:\n",
    "        ax.set_title('$\\u2193$', fontsize = 30, fontweight = 'bold')\n",
    "    \n",
    "\n",
    "def plot_task(task):\n",
    "    \"\"\"\n",
    "    Plots the first train and test pairs of a specified task,\n",
    "    using same color scheme as the ARC app\n",
    "    \"\"\"    \n",
    "    num_train = len(task['train'])\n",
    "    fig, axs = plt.subplots(2, num_train, figsize=(6*num_train,3*2))\n",
    "    for i in range(num_train):     \n",
    "        plot_one(axs[0,i],i,'train','input')\n",
    "        plot_one(axs[1,i],i, 'train','output')        \n",
    "    plt.tight_layout()\n",
    "    #plt.show()\n",
    "    #plt.close()"
   ]
  },
  {
   "cell_type": "code",
   "execution_count": null,
   "id": "671a6267",
   "metadata": {
    "scrolled": false
   },
   "outputs": [],
   "source": [
    "for i in range(len(training_tasks)):\n",
    "    task_file = str(training_path / training_tasks[i])\n",
    "    \n",
    "    with open(task_file, 'r') as f:\n",
    "        task = json.load(f)\n",
    "        \n",
    "    print(i)\n",
    "    print(training_tasks[i])\n",
    "    plot_task(task)\n",
    "    plt.savefig('examples/'+training_tasks[i]+'.png')\n",
    "    plt.close()"
   ]
  },
  {
   "cell_type": "code",
   "execution_count": null,
   "id": "866448ea",
   "metadata": {},
   "outputs": [],
   "source": []
  },
  {
   "cell_type": "code",
   "execution_count": null,
   "id": "b12b22af",
   "metadata": {},
   "outputs": [],
   "source": []
  }
 ],
 "metadata": {
  "kernelspec": {
   "display_name": "Python 3 (ipykernel)",
   "language": "python",
   "name": "python3"
  },
  "language_info": {
   "codemirror_mode": {
    "name": "ipython",
    "version": 3
   },
   "file_extension": ".py",
   "mimetype": "text/x-python",
   "name": "python",
   "nbconvert_exporter": "python",
   "pygments_lexer": "ipython3",
   "version": "3.10.7"
  }
 },
 "nbformat": 4,
 "nbformat_minor": 5
}
